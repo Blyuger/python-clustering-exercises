{
    "metadata": {
        "kernelspec": {
            "name": "python3",
            "language": "python",
            "display_name": "Python [default]"
        },
        "language_info": {
            "codemirror_mode": {
                "name": "ipython",
                "version": 3
            },
            "name": "python",
            "mimetype": "text/x-python",
            "file_extension": ".py",
            "pygments_lexer": "ipython3",
            "version": "3.5.2",
            "nbconvert_exporter": "python"
        }
    },
    "nbformat": 4,
    "nbformat_minor": 1,
    "cells": [
        {
            "metadata": {},
            "source": [
                "# Exercise 3: Inspect your clustering"
            ],
            "cell_type": "markdown"
        },
        {
            "metadata": {},
            "source": [
                "From the course _Transition to Data Science_. [Buy the entire course for just $10](https://www.udemy.com/transition-to-data-science-in-python/?couponCode=CLUSTER-NBS) for many more exercises and helpful video lectures."
            ],
            "cell_type": "markdown"
        },
        {
            "metadata": {},
            "source": [
                "Let's now inspect the clustering you performed in the previous exercise!"
            ],
            "cell_type": "markdown"
        },
        {
            "metadata": {},
            "source": [
                "**Step 1:** Load the dataset _(written for you)_."
            ],
            "cell_type": "markdown"
        },
        {
            "outputs": [],
            "metadata": {
                "exercise": false,
                "collapsed": true
            },
            "execution_count": null,
            "source": [
                "import pandas as pd\n",
                "\n",
                "df = pd.read_csv('datasets/ch1ex1.csv')\n",
                "points = df.values"
            ],
            "cell_type": "code"
        },
        {
            "metadata": {},
            "source": [
                "**Step 2:** Run your solution to the previous exercise _(filled in for you)._"
            ],
            "cell_type": "markdown"
        },
        {
            "outputs": [],
            "metadata": {
                "exercise": false,
                "collapsed": true
            },
            "execution_count": null,
            "source": [
                "from sklearn.cluster import KMeans\n",
                "\n",
                "model = KMeans(n_clusters=3)\n",
                "model.fit(points)\n",
                "labels = model.predict(points)"
            ],
            "cell_type": "code"
        },
        {
            "metadata": {},
            "source": [
                "**Step 3:** Import `matplotlib.pyplot` as `plt`"
            ],
            "cell_type": "markdown"
        },
        {
            "outputs": [],
            "metadata": {
                "collapsed": true
            },
            "execution_count": null,
            "source": [],
            "cell_type": "code"
        },
        {
            "metadata": {},
            "source": [
                "**Step 4:** Assign column `0` of `points` to `xs`, and column `1` of `points` to `ys`"
            ],
            "cell_type": "markdown"
        },
        {
            "outputs": [],
            "metadata": {
                "collapsed": true
            },
            "execution_count": null,
            "source": [],
            "cell_type": "code"
        },
        {
            "metadata": {},
            "source": [
                "**Step 5:** Make a scatter plot of `xs` and `ys`, specifying the `c=labels` keyword arguments to color the points by their cluster label.  You'll see that KMeans has done a good job of identifying the clusters!"
            ],
            "cell_type": "markdown"
        },
        {
            "outputs": [],
            "metadata": {
                "collapsed": false
            },
            "execution_count": null,
            "source": [],
            "cell_type": "code"
        },
        {
            "metadata": {},
            "source": [
                "**This is great**, but let's go one step further, and add the cluster centres (the \"centroids\") to the scatter plot."
            ],
            "cell_type": "markdown"
        },
        {
            "metadata": {},
            "source": [
                "**Step 6:** Obtain the coordinates of the centroids using the `.cluster_centers_` attribute of `model`.  Assign them to `centroids`."
            ],
            "cell_type": "markdown"
        },
        {
            "outputs": [],
            "metadata": {
                "collapsed": true
            },
            "execution_count": null,
            "source": [],
            "cell_type": "code"
        },
        {
            "metadata": {},
            "source": [
                "**Step 7:** Assign column `0` of `centroids` to `centroids_x`, and column `1` of `centroids` to `centroids_y`."
            ],
            "cell_type": "markdown"
        },
        {
            "outputs": [],
            "metadata": {
                "collapsed": true
            },
            "execution_count": null,
            "source": [],
            "cell_type": "code"
        },
        {
            "metadata": {},
            "source": [
                "**Step 8:** In a single cell, create two scatter plots (this will show the two on top of one another).  Call `plt.show()` just once, at the end.\n",
                "\n",
                "Firstly, the make the scatter plot you made above.  Secondly, make a scatter plot of `centroids_x` and `centroids_y`, using `'X'` (a cross) as a marker by specifying the `marker` parameter. Set the size of the markers to be `200` using `s=200`."
            ],
            "cell_type": "markdown"
        },
        {
            "outputs": [],
            "metadata": {
                "collapsed": false
            },
            "execution_count": null,
            "source": [],
            "cell_type": "code"
        },
        {
            "metadata": {},
            "source": [
                "**Great work!** The centroids are important because they are what enables KMeans to assign new, previously unseen points to the existing clusters."
            ],
            "cell_type": "markdown"
        },
        {
            "outputs": [],
            "metadata": {
                "collapsed": true
            },
            "execution_count": null,
            "source": [],
            "cell_type": "code"
        }
    ]
}