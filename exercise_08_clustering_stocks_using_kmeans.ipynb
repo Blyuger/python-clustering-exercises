{
    "metadata": {
        "kernelspec": {
            "name": "python3",
            "display_name": "Python [default]",
            "language": "python"
        },
        "language_info": {
            "nbconvert_exporter": "python",
            "pygments_lexer": "ipython3",
            "codemirror_mode": {
                "version": 3,
                "name": "ipython"
            },
            "name": "python",
            "file_extension": ".py",
            "version": "3.5.2",
            "mimetype": "text/x-python"
        }
    },
    "cells": [
        {
            "metadata": {},
            "cell_type": "markdown",
            "source": [
                "# Exercise 8: Clustering stocks using KMeans\n",
                "\n",
                "In this exercise, you'll cluster companies using their daily stock price movements (i.e. the dollar difference between the closing and opening prices for each trading day).  You are given a NumPy array `movements` of daily price movements from 2010 to 2015, where each row corresponds to a company, and each column corresponds to a trading day.\n",
                "\n",
                "Some stocks are more expensive than others.  To account for this, include a `Normalizer` at the beginning of your pipeline.  The Normalizer will separately transform each company's stock price to a relative scale before the clustering begins.\n",
                "\n",
                "## Normalizer vs StandardScaler\n",
                "Note that `Normalizer()` is different to `StandardScaler()`, which you used in the previous exercise. While `StandardScaler()` standardizes **features** (such as the features of the fish data from the previous exercise) by removing the mean and scaling to unit variance, `Normalizer()` rescales **each sample** - here, each company's stock price - independently of the other.\n",
                "\n",
                "This dataset was obtained from the Yahoo! Finance API."
            ]
        },
        {
            "metadata": {},
            "cell_type": "markdown",
            "source": [
                "From the course _Transition to Data Science_. [Buy the entire course for just $10](https://www.udemy.com/transition-to-data-science-in-python/?couponCode=CLUSTER-NBS) for many more exercises and helpful video lectures."
            ]
        },
        {
            "metadata": {},
            "cell_type": "markdown",
            "source": [
                "**Step 1:** Load the data _(written for you)_"
            ]
        },
        {
            "metadata": {
                "exercise": false,
                "collapsed": true
            },
            "outputs": [],
            "cell_type": "code",
            "execution_count": null,
            "source": [
                "import pandas as pd\n",
                "\n",
                "fn = 'datasets/company-stock-movements-2010-2015-incl.csv'\n",
                "stocks_df = pd.read_csv(fn, index_col=0)"
            ]
        },
        {
            "metadata": {},
            "cell_type": "markdown",
            "source": [
                "**Step 2:** Inspect the first few rows of the DataFrame `stocks_df` by calling its `head()` function."
            ]
        },
        {
            "metadata": {
                "collapsed": false
            },
            "outputs": [],
            "cell_type": "code",
            "execution_count": null,
            "source": []
        },
        {
            "metadata": {},
            "cell_type": "markdown",
            "source": [
                "**Step 3:** Extract the NumPy array `movements` from the DataFrame and the list of company names (_written for you_)"
            ]
        },
        {
            "metadata": {
                "exercise": false,
                "collapsed": true
            },
            "outputs": [],
            "cell_type": "code",
            "execution_count": null,
            "source": [
                "companies = list(stocks_df.index)\n",
                "movements = stocks_df.values"
            ]
        },
        {
            "metadata": {},
            "cell_type": "markdown",
            "source": [
                "**Step 4:** Make the necessary imports:\n",
                "\n",
                "- `Normalizer` from `sklearn.preprocessing`.\n",
                "- `KMeans` from `sklearn.cluster`.\n",
                "- `make_pipeline` from `sklearn.pipeline`."
            ]
        },
        {
            "metadata": {
                "collapsed": true
            },
            "outputs": [],
            "cell_type": "code",
            "execution_count": null,
            "source": []
        },
        {
            "metadata": {},
            "cell_type": "markdown",
            "source": [
                "**Step 3:** Create an instance of `Normalizer` called `normalizer`."
            ]
        },
        {
            "metadata": {
                "collapsed": true
            },
            "outputs": [],
            "cell_type": "code",
            "execution_count": null,
            "source": []
        },
        {
            "metadata": {},
            "cell_type": "markdown",
            "source": [
                "**Step 4:** Create an instance of `KMeans` called `kmeans` with `14` clusters."
            ]
        },
        {
            "metadata": {
                "collapsed": true
            },
            "outputs": [],
            "cell_type": "code",
            "execution_count": null,
            "source": []
        },
        {
            "metadata": {},
            "cell_type": "markdown",
            "source": [
                "**Step 5:** Using `make_pipeline()`, create a pipeline called `pipeline` that chains `normalizer` and `kmeans`."
            ]
        },
        {
            "metadata": {
                "collapsed": true
            },
            "outputs": [],
            "cell_type": "code",
            "execution_count": null,
            "source": []
        },
        {
            "metadata": {},
            "cell_type": "markdown",
            "source": [
                "**Step 6:** Fit the pipeline to the `movements` array."
            ]
        },
        {
            "metadata": {
                "collapsed": false
            },
            "outputs": [],
            "cell_type": "code",
            "execution_count": null,
            "source": []
        },
        {
            "metadata": {},
            "cell_type": "markdown",
            "source": [
                "**In the next exercise:** Let's check out your clustering!"
            ]
        }
    ],
    "nbformat_minor": 2,
    "nbformat": 4
}