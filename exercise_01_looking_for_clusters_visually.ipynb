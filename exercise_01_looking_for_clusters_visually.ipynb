{
    "metadata": {
        "kernelspec": {
            "language": "python",
            "name": "python3",
            "display_name": "Python [default]"
        },
        "language_info": {
            "mimetype": "text/x-python",
            "version": "3.5.2",
            "pygments_lexer": "ipython3",
            "codemirror_mode": {
                "version": 3,
                "name": "ipython"
            },
            "nbconvert_exporter": "python",
            "file_extension": ".py",
            "name": "python"
        }
    },
    "cells": [
        {
            "metadata": {},
            "source": [
                "# Exercise 1: Looking for clusters visually"
            ],
            "cell_type": "markdown"
        },
        {
            "metadata": {},
            "source": [
                "From the course _Transition to Data Science_. [Buy the entire course for just $10](https://www.udemy.com/transition-to-data-science-in-python/?couponCode=CLUSTER-NBS) for many more exercises and helpful video lectures."
            ],
            "cell_type": "markdown"
        },
        {
            "metadata": {},
            "source": [
                "You are given an array `points` of size 300x2, where each row gives the (x, y) co-ordinates of a point on a map.  Make a scatter plot of these points, and use the scatter plot to guess how many clusters there are."
            ],
            "cell_type": "markdown"
        },
        {
            "metadata": {},
            "source": [
                "**Step 1:** Load the dataset _(written for you)_."
            ],
            "cell_type": "markdown"
        },
        {
            "metadata": {
                "collapsed": true,
                "exercise": false
            },
            "source": [
                "import pandas as pd\n",
                "\n",
                "df = pd.read_csv('datasets/ch1ex1.csv')\n",
                "points = df.values"
            ],
            "execution_count": null,
            "cell_type": "code",
            "outputs": []
        },
        {
            "metadata": {},
            "source": [
                "**Step 2:** Import PyPlot"
            ],
            "cell_type": "markdown"
        },
        {
            "metadata": {
                "collapsed": true
            },
            "source": [],
            "execution_count": null,
            "cell_type": "code",
            "outputs": []
        },
        {
            "metadata": {},
            "source": [
                "**Step 3:** Create an array called `xs` that contains the values of `points[:,0]` - that is, column `0` of `points`:"
            ],
            "cell_type": "markdown"
        },
        {
            "metadata": {
                "collapsed": true
            },
            "source": [],
            "execution_count": null,
            "cell_type": "code",
            "outputs": []
        },
        {
            "metadata": {},
            "source": [
                "**Step 3:** Create an array called `ys` that contains the values of `points[:,1]` - that is, column `1` of `points`"
            ],
            "cell_type": "markdown"
        },
        {
            "metadata": {
                "collapsed": true
            },
            "source": [],
            "execution_count": null,
            "cell_type": "code",
            "outputs": []
        },
        {
            "metadata": {},
            "source": [
                "**Step 4:** Make a scatter plot by passing `xs` and `ys` to the `plt.scatter()` function."
            ],
            "cell_type": "markdown"
        },
        {
            "metadata": {
                "collapsed": false
            },
            "source": [],
            "execution_count": null,
            "cell_type": "code",
            "outputs": []
        },
        {
            "metadata": {},
            "source": [
                "**Step 5:** Call the `plt.show()` function to show your plot."
            ],
            "cell_type": "markdown"
        },
        {
            "metadata": {
                "collapsed": false
            },
            "source": [],
            "execution_count": null,
            "cell_type": "code",
            "outputs": []
        }
    ],
    "nbformat": 4,
    "nbformat_minor": 1
}