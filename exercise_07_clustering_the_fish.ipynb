{
    "nbformat": 4,
    "metadata": {
        "language_info": {
            "pygments_lexer": "ipython3",
            "nbconvert_exporter": "python",
            "mimetype": "text/x-python",
            "file_extension": ".py",
            "version": "3.5.2",
            "codemirror_mode": {
                "version": 3,
                "name": "ipython"
            },
            "name": "python"
        },
        "kernelspec": {
            "language": "python",
            "name": "python3",
            "display_name": "Python [default]"
        }
    },
    "cells": [
        {
            "cell_type": "markdown",
            "metadata": {},
            "source": [
                "# Exercise 7: Clustering the fish data\n",
                "\n",
                "Now use your standardization and clustering pipeline from the previous exercise to cluster the fish by their measurements, and then create a cross-tabulation to compare the cluster labels with the fish species."
            ]
        },
        {
            "cell_type": "markdown",
            "metadata": {},
            "source": [
                "From the course _Transition to Data Science_. [Buy the entire course for just $10](https://www.udemy.com/transition-to-data-science-in-python/?couponCode=CLUSTER-NBS) for many more exercises and helpful video lectures."
            ]
        },
        {
            "cell_type": "markdown",
            "metadata": {},
            "source": [
                "**Step 1:** Load the dataset, extracting the species of the fish as a list `species` _(done for you)_"
            ]
        },
        {
            "outputs": [],
            "cell_type": "code",
            "metadata": {
                "collapsed": true,
                "exercise": false
            },
            "execution_count": null,
            "source": [
                "import pandas as pd\n",
                "\n",
                "df = pd.read_csv('datasets/fish.csv')\n",
                "\n",
                "# remove the species from the DataFrame so only the measurements are left\n",
                "species = list(df['species'])\n",
                "del df['species']"
            ]
        },
        {
            "cell_type": "markdown",
            "metadata": {},
            "source": [
                "**Step 2:** Build the pipeline as in the previous exercise _(filled in for you)._"
            ]
        },
        {
            "outputs": [],
            "cell_type": "code",
            "metadata": {
                "collapsed": true
            },
            "execution_count": null,
            "source": []
        },
        {
            "cell_type": "markdown",
            "metadata": {},
            "source": [
                "**Step 3:** Fit the pipeline to the fish measurements `samples`."
            ]
        },
        {
            "outputs": [],
            "cell_type": "code",
            "metadata": {
                "collapsed": false
            },
            "execution_count": null,
            "source": []
        },
        {
            "cell_type": "markdown",
            "metadata": {},
            "source": [
                "**Step 4:** Obtain the cluster labels for `samples` by using the `.predict()` method of `pipeline`, assigning the result to `labels`."
            ]
        },
        {
            "outputs": [],
            "cell_type": "code",
            "metadata": {
                "collapsed": true
            },
            "execution_count": null,
            "source": []
        },
        {
            "cell_type": "markdown",
            "metadata": {},
            "source": [
                "**Step 5:** Using `pd.DataFrame()`, create a DataFrame `df` with two columns named `'labels'` and `'species'`, using `labels` and `species`, respectively, for the column values."
            ]
        },
        {
            "outputs": [],
            "cell_type": "code",
            "metadata": {
                "collapsed": true
            },
            "execution_count": null,
            "source": []
        },
        {
            "cell_type": "markdown",
            "metadata": {},
            "source": [
                "**Step 6:** Using `pd.crosstab()`, create a cross-tabulation `ct` of `df['labels']` and `df['species']`."
            ]
        },
        {
            "outputs": [],
            "cell_type": "code",
            "metadata": {
                "collapsed": true
            },
            "execution_count": null,
            "source": []
        },
        {
            "cell_type": "markdown",
            "metadata": {},
            "source": [
                "**Step 7:** Display your cross-tabulation, and check out how good your clustering is!"
            ]
        },
        {
            "outputs": [],
            "cell_type": "code",
            "metadata": {
                "collapsed": false
            },
            "execution_count": null,
            "source": []
        }
    ],
    "nbformat_minor": 2
}