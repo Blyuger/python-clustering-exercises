{
    "cells": [
        {
            "metadata": {},
            "source": [
                "# Exercise 5: Evaluating the grain clustering\n",
                "\n",
                "In the previous exercise, you observed from the inertia plot that 3 is a good number of clusters for the grain data.  In fact, the grain samples come from a mix of 3 different grain varieties: \"Kama\", \"Rosa\" and \"Canadian\".  In this exercise, cluster the grain samples into three clusters, and compare the clusters to the grain varieties using a cross-tabulation."
            ],
            "cell_type": "markdown"
        },
        {
            "metadata": {},
            "source": [
                "From the course _Transition to Data Science_. [Buy the entire course for just $10](https://www.udemy.com/transition-to-data-science-in-python/?couponCode=CLUSTER-NBS) for many more exercises and helpful video lectures."
            ],
            "cell_type": "markdown"
        },
        {
            "metadata": {},
            "source": [
                "**Step 1:** Load the dataset _(written for you)_.\n",
                "\n",
                "You have the array `samples` of grain samples, and a list `varieties` giving the grain variety for each sample."
            ],
            "cell_type": "markdown"
        },
        {
            "metadata": {
                "exercise": false,
                "collapsed": true
            },
            "outputs": [],
            "execution_count": 2,
            "source": [
                "import pandas as pd\n",
                "\n",
                "seeds_df = pd.read_csv('datasets/seeds.csv')\n",
                "\n",
                "# extract the grain varieties from the dataframe\n",
                "varieties = list(seeds_df['grain_variety'])\n",
                "del seeds_df['grain_variety']\n",
                "\n",
                "samples = seeds_df.values"
            ],
            "cell_type": "code"
        },
        {
            "metadata": {},
            "source": [
                "**Step 2:** Import KMeans"
            ],
            "cell_type": "markdown"
        },
        {
            "metadata": {
                "collapsed": true
            },
            "outputs": [],
            "execution_count": 3,
            "source": [
                "from sklearn.cluster import KMeans"
            ],
            "cell_type": "code"
        },
        {
            "metadata": {},
            "source": [
                "**Step 3:** Create a `KMeans` model called `model` with `3` clusters.\n"
            ],
            "cell_type": "markdown"
        },
        {
            "metadata": {
                "collapsed": true
            },
            "outputs": [],
            "execution_count": 4,
            "source": [
                "model = KMeans(n_clusters=3)"
            ],
            "cell_type": "code"
        },
        {
            "metadata": {},
            "source": [
                "**Step 4:** Use the `.fit_predict()` method of `model` to fit it to `samples` and derive the cluster labels.\n",
                "\n",
                "Calling `.fit_predict()` is the same as calling `.fit()` and then calling `.predict()`."
            ],
            "cell_type": "markdown"
        },
        {
            "metadata": {
                "collapsed": true
            },
            "outputs": [],
            "execution_count": 5,
            "source": [
                "labels = model.fit_predict(samples)"
            ],
            "cell_type": "code"
        },
        {
            "metadata": {},
            "source": [
                "**Step 5:** Create a DataFrame `df` with two columns named `'labels'` and `'varieties'`, using `labels` and `varieties`, respectively, for the column values. _(This has been done for you.)_\n"
            ],
            "cell_type": "markdown"
        },
        {
            "metadata": {
                "collapsed": true
            },
            "outputs": [],
            "execution_count": 6,
            "source": [
                "df = pd.DataFrame({'labels': labels, 'varieties': varieties})"
            ],
            "cell_type": "code"
        },
        {
            "metadata": {},
            "source": [
                "**Step 6:** Use the `pd.crosstab()` function on `df['labels']` and `df['varieties']` to count the number of times each grain variety coincides with each cluster label. Assign the result to `ct`."
            ],
            "cell_type": "markdown"
        },
        {
            "metadata": {
                "collapsed": true
            },
            "outputs": [],
            "execution_count": 7,
            "source": [
                "ct = pd.crosstab(df['labels'], df['varieties'])"
            ],
            "cell_type": "code"
        },
        {
            "metadata": {},
            "source": [
                "**Step 7:** Display `ct` by evaluating it - and inspect your cross-tabulation!  You'll see that your clustering is pretty good."
            ],
            "cell_type": "markdown"
        },
        {
            "metadata": {
                "collapsed": false
            },
            "outputs": [
                {
                    "metadata": {},
                    "execution_count": 8,
                    "data": {
                        "text/plain": [
                            "varieties  Canadian wheat  Kama wheat  Rosa wheat\n",
                            "labels                                           \n",
                            "0                       2          60          10\n",
                            "1                      68           9           0\n",
                            "2                       0           1          60"
                        ],
                        "text/html": [
                            "<div>\n",
                            "<style>\n",
                            "    .dataframe thead tr:only-child th {\n",
                            "        text-align: right;\n",
                            "    }\n",
                            "\n",
                            "    .dataframe thead th {\n",
                            "        text-align: left;\n",
                            "    }\n",
                            "\n",
                            "    .dataframe tbody tr th {\n",
                            "        vertical-align: top;\n",
                            "    }\n",
                            "</style>\n",
                            "<table border=\"1\" class=\"dataframe\">\n",
                            "  <thead>\n",
                            "    <tr style=\"text-align: right;\">\n",
                            "      <th>varieties</th>\n",
                            "      <th>Canadian wheat</th>\n",
                            "      <th>Kama wheat</th>\n",
                            "      <th>Rosa wheat</th>\n",
                            "    </tr>\n",
                            "    <tr>\n",
                            "      <th>labels</th>\n",
                            "      <th></th>\n",
                            "      <th></th>\n",
                            "      <th></th>\n",
                            "    </tr>\n",
                            "  </thead>\n",
                            "  <tbody>\n",
                            "    <tr>\n",
                            "      <th>0</th>\n",
                            "      <td>2</td>\n",
                            "      <td>60</td>\n",
                            "      <td>10</td>\n",
                            "    </tr>\n",
                            "    <tr>\n",
                            "      <th>1</th>\n",
                            "      <td>68</td>\n",
                            "      <td>9</td>\n",
                            "      <td>0</td>\n",
                            "    </tr>\n",
                            "    <tr>\n",
                            "      <th>2</th>\n",
                            "      <td>0</td>\n",
                            "      <td>1</td>\n",
                            "      <td>60</td>\n",
                            "    </tr>\n",
                            "  </tbody>\n",
                            "</table>\n",
                            "</div>"
                        ]
                    },
                    "output_type": "execute_result"
                }
            ],
            "execution_count": 8,
            "source": [
                "ct"
            ],
            "cell_type": "code"
        },
        {
            "metadata": {
                "collapsed": true
            },
            "outputs": [],
            "execution_count": null,
            "source": [],
            "cell_type": "code"
        }
    ],
    "nbformat": 4,
    "metadata": {
        "language_info": {
            "name": "python",
            "pygments_lexer": "ipython3",
            "version": "3.5.2",
            "file_extension": ".py",
            "codemirror_mode": {
                "version": 3,
                "name": "ipython"
            },
            "nbconvert_exporter": "python",
            "mimetype": "text/x-python"
        },
        "anaconda-cloud": {},
        "kernelspec": {
            "name": "python3",
            "display_name": "Python [default]",
            "language": "python"
        }
    },
    "nbformat_minor": 2
}