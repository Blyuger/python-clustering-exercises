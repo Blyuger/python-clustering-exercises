{
    "nbformat": 4,
    "nbformat_minor": 2,
    "metadata": {
        "language_info": {
            "file_extension": ".py",
            "nbconvert_exporter": "python",
            "codemirror_mode": {
                "version": 3,
                "name": "ipython"
            },
            "name": "python",
            "version": "3.5.2",
            "mimetype": "text/x-python",
            "pygments_lexer": "ipython3"
        },
        "kernelspec": {
            "name": "python3",
            "language": "python",
            "display_name": "Python [default]"
        }
    },
    "cells": [
        {
            "metadata": {},
            "source": [
                "# Exercise 4: How many clusters of grain?\n",
                "\n",
                "In the video, you learnt how to choose a good number of clusters for a dataset using the k-means inertia graph.  You are given a dataset of the measurements of samples of grain.  What's a good number of clusters in this case?\n",
                "\n",
                "This dataset was obtained from the [UCI](https://archive.ics.uci.edu/ml/datasets/seeds)."
            ],
            "cell_type": "markdown"
        },
        {
            "metadata": {},
            "source": [
                "From the course _Transition to Data Science_. [Buy the entire course for just $10](https://www.udemy.com/transition-to-data-science-in-python/?couponCode=CLUSTER-NBS) for many more exercises and helpful video lectures."
            ],
            "cell_type": "markdown"
        },
        {
            "metadata": {},
            "source": [
                "**Step 1:** Load the dataset _(written for you)_."
            ],
            "cell_type": "markdown"
        },
        {
            "execution_count": null,
            "metadata": {
                "collapsed": true,
                "exercise": false
            },
            "outputs": [],
            "cell_type": "code",
            "source": [
                "import pandas as pd\n",
                "\n",
                "seeds_df = pd.read_csv('datasets/seeds.csv')\n",
                "# forget about the grain variety for the moment - we'll use this later\n",
                "del seeds_df['grain_variety']"
            ]
        },
        {
            "metadata": {},
            "source": [
                "**Step 2:** Display the DataFrame to inspect the data.  Notice that there are 7 columns - so each grain sample (row) is a point in 7D space!  Scatter plots can't help us here."
            ],
            "cell_type": "markdown"
        },
        {
            "execution_count": null,
            "metadata": {
                "collapsed": false
            },
            "outputs": [],
            "cell_type": "code",
            "source": []
        },
        {
            "metadata": {},
            "source": [
                "**Step 3:** Extract the measurements from the DataFrame using its `.values` attribute:"
            ],
            "cell_type": "markdown"
        },
        {
            "execution_count": null,
            "metadata": {
                "collapsed": true
            },
            "outputs": [],
            "cell_type": "code",
            "source": []
        },
        {
            "metadata": {},
            "source": [
                "**Step 4:**  _(Written for you)_. Measure the quality of clusterings with different numbers of clusters using the\n",
                "inertia.  For each of the given values of `k`, perform the following steps:\n",
                "\n",
                "  - Create a `KMeans` instance called `model` with `k` clusters.\n",
                "  - Fit the model to the grain data `samples`.\n",
                "  - Append the value of the `inertia_` attribute of `model` to the list `inertias`."
            ],
            "cell_type": "markdown"
        },
        {
            "execution_count": null,
            "metadata": {
                "collapsed": true
            },
            "outputs": [],
            "cell_type": "code",
            "source": []
        },
        {
            "metadata": {},
            "source": [
                "**Step 5:**  Plot the inertia to see which number of clusters is best. Remember: lower numbers are better!"
            ],
            "cell_type": "markdown"
        },
        {
            "execution_count": null,
            "metadata": {
                "collapsed": false
            },
            "outputs": [],
            "cell_type": "code",
            "source": []
        },
        {
            "metadata": {},
            "source": [
                "**Excellent work!** You can see from the graph that 3 is a good number of clusters, since these are points where the inertia begins to decrease more slowly."
            ],
            "cell_type": "markdown"
        },
        {
            "execution_count": null,
            "metadata": {
                "collapsed": true
            },
            "outputs": [],
            "cell_type": "code",
            "source": []
        }
    ]
}